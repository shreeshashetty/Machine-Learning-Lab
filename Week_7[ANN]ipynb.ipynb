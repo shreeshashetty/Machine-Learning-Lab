{
  "nbformat": 4,
  "nbformat_minor": 0,
  "metadata": {
    "colab": {
      "provenance": []
    },
    "kernelspec": {
      "name": "python3",
      "display_name": "Python 3"
    },
    "language_info": {
      "name": "python"
    }
  },
  "cells": [
    {
      "cell_type": "code",
      "execution_count": 1,
      "metadata": {
        "id": "s4EQdNDj5h5U"
      },
      "outputs": [],
      "source": [
        "import numpy as np"
      ]
    },
    {
      "cell_type": "code",
      "source": [
        "X=np.array(([2,9],[1,5],[3,6]),dtype=float)\n",
        "y=np.array(([92],[86],[89]),dtype=float)\n",
        "X=X/np.amax(X,axis=0)\n",
        "y=y/100"
      ],
      "metadata": {
        "id": "R3scjZ067ry7"
      },
      "execution_count": 2,
      "outputs": []
    },
    {
      "cell_type": "code",
      "source": [
        "epoch=5000\n",
        "lr=0.1\n",
        "inputlayer_neurons=2\n",
        "hiddenlayer_neurons=3\n",
        "output_neurons=1"
      ],
      "metadata": {
        "id": "0qpT4JEc8T5l"
      },
      "execution_count": 3,
      "outputs": []
    },
    {
      "cell_type": "code",
      "source": [
        "wh=np.random.uniform(size=(inputlayer_neurons,hiddenlayer_neurons))\n",
        "bh=np.random.uniform(size=(1,hiddenlayer_neurons))\n",
        "wout=np.random.uniform(size=(hiddenlayer_neurons,output_neurons))\n",
        "bout=bh=np.random.uniform(size=(1,output_neurons))"
      ],
      "metadata": {
        "id": "PzeWTjO78h70"
      },
      "execution_count": 4,
      "outputs": []
    },
    {
      "cell_type": "code",
      "source": [
        "def sigmoid(x):\n",
        "  return 1/(1+np.exp(-x))"
      ],
      "metadata": {
        "id": "0h2XZCyF9fC2"
      },
      "execution_count": 5,
      "outputs": []
    },
    {
      "cell_type": "code",
      "source": [
        "def derivatives_sigmoid(x):\n",
        "  return x*(1-x)"
      ],
      "metadata": {
        "id": "VaAtRJ689t7l"
      },
      "execution_count": 6,
      "outputs": []
    },
    {
      "cell_type": "code",
      "source": [
        "for i in range(epoch):\n",
        "  hinpl=np.dot(X,wh)\n",
        "  hinp=hinpl+bh\n",
        "  hlayer_act=sigmoid(hinp)\n",
        "  outinp1=np.dot(hlayer_act,wout)\n",
        "  outinp=outinp1+bout\n",
        "  output=sigmoid(outinp)\n",
        "  EO=y-output\n",
        "  outgrad=derivatives_sigmoid(output)\n",
        "  d_output = EO* outgrad\n",
        "  EH = d_output.dot(wout.T)"
      ],
      "metadata": {
        "id": "N3IvPE5_-FK0"
      },
      "execution_count": 9,
      "outputs": []
    },
    {
      "cell_type": "code",
      "source": [
        "hiddengrad=derivatives_sigmoid(hlayer_act)\n",
        "d_hiddenlayer=EH*hiddengrad\n",
        "wout += hlayer_act.T.dot (d_output) *lr\n",
        "wh + X.T.dot (d_hiddenlayer) *lr\n",
        "print(\"Input: \\n\" + str(X))\n",
        "print(\"Actual Output: \\n\" + str(y))\n",
        "print(\"Predicted Output: \\n\",output)"
      ],
      "metadata": {
        "colab": {
          "base_uri": "https://localhost:8080/"
        },
        "id": "OwnlSeNfAORy",
        "outputId": "5f048df6-39cc-4a5c-c527-c2b4b60a80c5"
      },
      "execution_count": 11,
      "outputs": [
        {
          "output_type": "stream",
          "name": "stdout",
          "text": [
            "Input: \n",
            "[[0.66666667 1.        ]\n",
            " [0.33333333 0.55555556]\n",
            " [1.         0.66666667]]\n",
            "Actual Output: \n",
            "[[0.92]\n",
            " [0.86]\n",
            " [0.89]]\n",
            "Predicted Output: \n",
            " [[0.8913061 ]\n",
            " [0.88519821]\n",
            " [0.88962179]]\n"
          ]
        }
      ]
    }
  ]
}