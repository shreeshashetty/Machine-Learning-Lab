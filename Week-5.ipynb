{
  "nbformat": 4,
  "nbformat_minor": 0,
  "metadata": {
    "colab": {
      "provenance": []
    },
    "kernelspec": {
      "name": "python3",
      "display_name": "Python 3"
    },
    "language_info": {
      "name": "python"
    }
  },
  "cells": [
    {
      "cell_type": "code",
      "execution_count": null,
      "metadata": {
        "id": "ihWBUb-72fiZ"
      },
      "outputs": [],
      "source": [
        "import pandas as pd\n",
        "from matplotlib import pyplot as plt\n",
        "from sklearn.model_selection import train_test_split\n",
        "from sklearn.linear_model import LogisticRegression"
      ]
    },
    {
      "cell_type": "code",
      "source": [
        "# Read the data\n",
        "df = pd.read_csv(\"insurance_data.csv\")\n",
        "\n",
        "# Display the first few rows of the DataFrame\n",
        "print(df.head())"
      ],
      "metadata": {
        "colab": {
          "base_uri": "https://localhost:8080/"
        },
        "id": "Jplnw0dA3QfA",
        "outputId": "79d61938-48c5-444e-826e-fc681f931286"
      },
      "execution_count": null,
      "outputs": [
        {
          "output_type": "stream",
          "name": "stdout",
          "text": [
            "   age  bought_insurance\n",
            "0   22                 0\n",
            "1   25                 0\n",
            "2   47                 1\n",
            "3   52                 0\n",
            "4   46                 1\n"
          ]
        }
      ]
    },
    {
      "cell_type": "code",
      "source": [],
      "metadata": {
        "id": "imWuKKl6A1WG"
      },
      "execution_count": null,
      "outputs": []
    },
    {
      "cell_type": "code",
      "source": [
        "# Scatter plot\n",
        "plt.scatter(df.age, df.bought_insurance, marker='+', color='red')\n",
        "plt.xlabel('Age')\n",
        "plt.ylabel('Bought Insurance')\n",
        "plt.title('Age vs Bought Insurance')\n",
        "plt.show()"
      ],
      "metadata": {
        "colab": {
          "base_uri": "https://localhost:8080/",
          "height": 472
        },
        "id": "-m94j8zP5ZM5",
        "outputId": "ab631e2d-4895-459b-c1e8-44e5a2c97b71"
      },
      "execution_count": null,
      "outputs": [
        {
          "output_type": "display_data",
          "data": {
            "text/plain": [
              "<Figure size 640x480 with 1 Axes>"
            ],
            "image/png": "[encoded data removed]"
          },
          "metadata": {}
        }
      ]
    },
    {
      "cell_type": "code",
      "source": [
        "# Perform the train-test split\n",
        "X_train, X_test, y_train, y_test = train_test_split(df[['age']], df.bought_insurance, train_size=0.8)\n",
        "\n",
        "# Display X_test\n",
        "print(\"X_test:\")\n",
        "print(X_test)"
      ],
      "metadata": {
        "colab": {
          "base_uri": "https://localhost:8080/"
        },
        "id": "s9WPJ9iy5bYo",
        "outputId": "56c2df66-57ad-4271-da9d-539077077fa0"
      },
      "execution_count": null,
      "outputs": [
        {
          "output_type": "stream",
          "name": "stdout",
          "text": [
            "X_test:\n",
            "    age\n",
            "14   49\n",
            "24   50\n",
            "16   25\n",
            "2    47\n",
            "6    55\n",
            "22   40\n"
          ]
        }
      ]
    },
    {
      "cell_type": "code",
      "source": [
        "# Initialize and fit the logistic regression model\n",
        "model = LogisticRegression()\n",
        "model.fit(X_train, y_train)\n",
        "\n",
        "# Display X_test again\n",
        "print(\"\\nX_test after fitting the model:\")\n",
        "print(X_test)\n",
        "\n",
        "# Predictions\n",
        "y_predicted = model.predict(X_test)\n",
        "print(\"\\nPredicted values:\")\n",
        "print(y_predicted)"
      ],
      "metadata": {
        "colab": {
          "base_uri": "https://localhost:8080/"
        },
        "id": "QfeSoIBk5iNJ",
        "outputId": "f5169921-ffc7-446c-b80d-31720717942e"
      },
      "execution_count": null,
      "outputs": [
        {
          "output_type": "stream",
          "name": "stdout",
          "text": [
            "\n",
            "X_test after fitting the model:\n",
            "    age\n",
            "14   49\n",
            "24   50\n",
            "16   25\n",
            "2    47\n",
            "6    55\n",
            "22   40\n",
            "\n",
            "Predicted values:\n",
            "[1 1 0 1 1 0]\n"
          ]
        }
      ]
    },
    {
      "cell_type": "code",
      "source": [
        "# Probabilities\n",
        "print(\"\\nProbabilities:\")\n",
        "print(model.predict_proba(X_test))\n",
        "\n",
        "# Model accuracy\n",
        "print(\"\\nModel accuracy:\")\n",
        "print(model.score(X_test, y_test))"
      ],
      "metadata": {
        "colab": {
          "base_uri": "https://localhost:8080/"
        },
        "id": "vBXC15W55nwo",
        "outputId": "94aae0c9-dd62-4067-a34a-2e236b88cad2"
      },
      "execution_count": null,
      "outputs": [
        {
          "output_type": "stream",
          "name": "stdout",
          "text": [
            "\n",
            "Probabilities:\n",
            "[[0.21294835 0.78705165]\n",
            " [0.17694536 0.82305464]\n",
            " [0.98538887 0.01461113]\n",
            " [0.29998497 0.70001503]\n",
            " [0.06375268 0.93624732]\n",
            " [0.68182949 0.31817051]]\n",
            "\n",
            "Model accuracy:\n",
            "0.5\n"
          ]
        }
      ]
    }
  ]
}